{
 "cells": [
  {
   "cell_type": "code",
   "execution_count": 1,
   "id": "every-guinea",
   "metadata": {
    "ExecuteTime": {
     "end_time": "2021-06-07T23:47:55.020714Z",
     "start_time": "2021-06-07T23:03:55.677060Z"
    }
   },
   "outputs": [
    {
     "name": "stderr",
     "output_type": "stream",
     "text": [
      "C:\\Users\\lukas\\anaconda3\\envs\\ML\\lib\\site-packages\\wikipedia\\wikipedia.py:389: GuessedAtParserWarning: No parser was explicitly specified, so I'm using the best available HTML parser for this system (\"lxml\"). This usually isn't a problem, but if you run this code on another system, or in a different virtual environment, it may use a different parser and behave differently.\n",
      "\n",
      "The code that caused this warning is on line 389 of the file C:\\Users\\lukas\\anaconda3\\envs\\ML\\lib\\site-packages\\wikipedia\\wikipedia.py. To get rid of this warning, pass the additional argument 'features=\"lxml\"' to the BeautifulSoup constructor.\n",
      "\n",
      "  lis = BeautifulSoup(html).find_all('li')\n"
     ]
    }
   ],
   "source": [
    "import wikipedia\n",
    "\n",
    "for index in range(1000):\n",
    "    try:\n",
    "        p = wikipedia.page(wikipedia.random(1))\n",
    "        p = '\\n'.join([line for line in p.content.split('\\n') if len(line.strip()) > 0 and not line.startswith('=')])\n",
    "        with open('./DatasetWikipedia/%d.txt' % index, 'w') as f:\n",
    "            f.write(p)\n",
    "    except:\n",
    "        pass"
   ]
  },
  {
   "cell_type": "code",
   "execution_count": 5,
   "id": "determined-portal",
   "metadata": {
    "ExecuteTime": {
     "end_time": "2021-06-07T23:49:57.544461Z",
     "start_time": "2021-06-07T23:49:57.448516Z"
    }
   },
   "outputs": [],
   "source": [
    "import os\n",
    "\n",
    "txt_files_path = './DatasetWikipedia'\n",
    "txt_list = [f'{txt_files_path}/{file}' for file in os.listdir(txt_files_path)]\n",
    "for txt in txt_list:\n",
    "#     print(txt)\n",
    "    if not os.path.getsize(txt):\n",
    "        os.remove(txt)"
   ]
  },
  {
   "cell_type": "code",
   "execution_count": 201,
   "id": "close-borough",
   "metadata": {
    "ExecuteTime": {
     "end_time": "2021-06-08T15:24:28.510691Z",
     "start_time": "2021-06-08T15:24:23.501409Z"
    }
   },
   "outputs": [],
   "source": [
    "import os\n",
    "\n",
    "txt_output = './DatasetWikipedia/source.txt'\n",
    "txt_files_path = './DatasetWikipedia'\n",
    "txt_list = [f'{txt_files_path}/{file}' for file in os.listdir(txt_files_path)]\n",
    "with open(txt_output, 'a') as f:\n",
    "    for txt in txt_list:\n",
    "        with open(txt, 'r') as f2:\n",
    "            for line in f2:\n",
    "                f.write(line)\n",
    "        f.write('\\n')"
   ]
  },
  {
   "cell_type": "code",
   "execution_count": 1,
   "id": "driven-newark",
   "metadata": {
    "ExecuteTime": {
     "end_time": "2021-06-09T13:45:24.154720Z",
     "start_time": "2021-06-09T13:45:24.108166Z"
    }
   },
   "outputs": [
    {
     "data": {
      "text/plain": [
       "['./Fonts/arial.ttf',\n",
       " './Fonts/calibri.ttf',\n",
       " './Fonts/impact.ttf',\n",
       " './Fonts/Roboto-Regular.ttf',\n",
       " './Fonts/times.ttf',\n",
       " './Fonts/trebuc.ttf',\n",
       " './Fonts/verdana.ttf']"
      ]
     },
     "execution_count": 1,
     "metadata": {},
     "output_type": "execute_result"
    }
   ],
   "source": [
    "import os\n",
    "from PIL import Image, ImageDraw, ImageFont\n",
    "\n",
    "text_source = './text_full.txt'\n",
    "fonts_path = './Fonts'\n",
    "fonts = [f'{fonts_path}/{f}' for f in os.listdir(fonts_path)]\n",
    "fonts"
   ]
  },
  {
   "cell_type": "code",
   "execution_count": 10,
   "id": "annoying-setting",
   "metadata": {
    "ExecuteTime": {
     "end_time": "2021-06-09T13:57:12.063003Z",
     "start_time": "2021-06-09T13:57:11.686502Z"
    },
    "scrolled": true
   },
   "outputs": [
    {
     "name": "stdout",
     "output_type": "stream",
     "text": [
      "MAX LEN: 1804\n",
      "Chars: 1837808\n",
      "Words: 344815\n",
      "Lines: 10845\n",
      "Max char len: 319\n",
      "Longest word: https://books.google.com/books?id=UXaQat5icHUC&pg=PA197&lpg=PA197&dq=what+is+Delphinium+Scopulorum+used+for&source=bl&ots=R__340kIoL&sig=vSmByyCCaGdIptZ278KseOsL6hw&hl=en&ei=gsrTTZiECYTfgQeXgb0u&sa=X&oi=book_result&ct=result&resnum=1&ved=0CB0Q6AEwAA#v=onepage&q=what%20is%20Delphinium%20Scopulorum%20used%20for&f=false\n",
      "\n"
     ]
    },
    {
     "data": {
      "image/png": "[encoded data removed]",
      "text/plain": [
       "<Figure size 432x288 with 1 Axes>"
      ]
     },
     "metadata": {
      "needs_background": "light"
     },
     "output_type": "display_data"
    }
   ],
   "source": [
    "import matplotlib.pyplot as plt\n",
    "import numpy as np\n",
    "import random\n",
    "\n",
    "%matplotlib inline\n",
    "\n",
    "def gen_text_image(text, padding=16):\n",
    "    font = random.choice(fonts)\n",
    "    fnt = ImageFont.truetype(font, 60)\n",
    "    width, _ = fnt.getsize(text)\n",
    "#     print(font)\n",
    "    img = Image.new('L', (width + (padding + 1) * 2, 64), color = 0)\n",
    "    d = ImageDraw.Draw(img)\n",
    "\n",
    "    if 'calibri' in font:\n",
    "        d.text((padding + 2,2), text, font=fnt, fill=255)\n",
    "    elif 'verdana' in font:\n",
    "        d.text((padding + 2,-8), text, font=fnt, fill=255)\n",
    "    else:\n",
    "        d.text((padding + 2,-6), text, font=fnt, fill=255)\n",
    "\n",
    "    plt.imshow(np.asarray(img), cmap='gray', vmin=0, vmax=255)\n",
    "\n",
    "with open(text_source) as txt:\n",
    "    line_lens = []\n",
    "    max_char_len = 0\n",
    "    longest_word = ''\n",
    "    char_len = 0\n",
    "    word_list = []\n",
    "    for i, line in enumerate(txt):\n",
    "        words = line.split(' ')\n",
    "        # max 5-word-long sequences\n",
    "        num_sequences = (len(words) + 1) // 5\n",
    "        word_list.extend(words)\n",
    "        line_lens.append(len(words))\n",
    "        for word in words:\n",
    "            char_len += len(word)\n",
    "            if len(word) > max_char_len:\n",
    "                max_char_len = len(word)\n",
    "                longest_word = word\n",
    "#             gen_text_image(word)\n",
    "#         break\n",
    "print(f'MAX LEN: {max(line_lens)}')\n",
    "print(f'Chars: {char_len}')\n",
    "print(f'Words: {sum(line_lens)}')\n",
    "print(f'Lines: {len(line_lens)}')\n",
    "print(f'Max char len: {max_char_len}')\n",
    "print(f'Longest word: {longest_word}')\n",
    "line_lens.sort(reverse=True)\n",
    "line_lens[0]\n",
    "# word_list[1000:1010]\n",
    "gen_text_image(longest_word)"
   ]
  }
 ],
 "metadata": {
  "kernelspec": {
   "display_name": "Python 3",
   "language": "python",
   "name": "python3"
  },
  "language_info": {
   "codemirror_mode": {
    "name": "ipython",
    "version": 3
   },
   "file_extension": ".py",
   "mimetype": "text/x-python",
   "name": "python",
   "nbconvert_exporter": "python",
   "pygments_lexer": "ipython3",
   "version": "3.8.5"
  },
  "toc": {
   "base_numbering": 1,
   "nav_menu": {},
   "number_sections": true,
   "sideBar": true,
   "skip_h1_title": false,
   "title_cell": "Table of Contents",
   "title_sidebar": "Contents",
   "toc_cell": false,
   "toc_position": {},
   "toc_section_display": true,
   "toc_window_display": false
  },
  "varInspector": {
   "cols": {
    "lenName": 16,
    "lenType": 16,
    "lenVar": 40
   },
   "kernels_config": {
    "python": {
     "delete_cmd_postfix": "",
     "delete_cmd_prefix": "del ",
     "library": "var_list.py",
     "varRefreshCmd": "print(var_dic_list())"
    },
    "r": {
     "delete_cmd_postfix": ") ",
     "delete_cmd_prefix": "rm(",
     "library": "var_list.r",
     "varRefreshCmd": "cat(var_dic_list()) "
    }
   },
   "position": {
    "height": "440px",
    "left": "2512px",
    "right": "20px",
    "top": "196px",
    "width": "341px"
   },
   "types_to_exclude": [
    "module",
    "function",
    "builtin_function_or_method",
    "instance",
    "_Feature"
   ],
   "window_display": true
  }
 },
 "nbformat": 4,
 "nbformat_minor": 5
}
